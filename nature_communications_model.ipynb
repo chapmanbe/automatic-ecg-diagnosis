{
 "cells": [
  {
   "cell_type": "markdown",
   "id": "05f93ba8",
   "metadata": {},
   "source": [
    "# Using a Pre-trained ECG Classifier\n",
    "\n",
    "This notebook implements the pre-trained ECG classifier described in this [Nature Communications](https://www.nature.com/articles/s41467-020-15432-4). The code for this is from my [cloned version](https://github.com/chapmanbe/automatic-ecg-diagnosis) of the original GitHub repository.\n",
    "\n",
    "The pretrained models were obtained from this [Dropbox link](https://www.dropbox.com/s/5ar6j8u9v9a0rmh/model.zip?dl=0). Downloading from zenodo was too slow.\n",
    "\n"
   ]
  },
  {
   "cell_type": "code",
   "execution_count": null,
   "id": "ae76f405",
   "metadata": {},
   "outputs": [],
   "source": [
    "import h5py\n",
    "import math\n",
    "import pandas as pd\n",
    "from tensorflow.keras.utils import Sequence\n",
    "import numpy as np\n",
    "from tensorflow.keras.models import load_model\n",
    "from tensorflow.keras.optimizers import Adam\n",
    "from datasets import ECGSequence"
   ]
  },
  {
   "cell_type": "markdown",
   "id": "0b5f2eee",
   "metadata": {},
   "source": [
    "## Data are stored in an HDF5 file\n",
    "\n",
    "- There is a single record named `tracings`\n",
    "- Model predicts 6 diseases, not mutually exclusive\n",
    "\n",
    "### Description of tracings data from the GitHub repository\n",
    "\n",
    ">shape = (N, 4096, 12). The input tensor should contain the 4096 points of the ECG tracings sampled at 400Hz (i.e., a signal of approximately 10 seconds). Both in the training and in the test set, when the signal was not long enough, we filled the signal with zeros, so 4096 points were attained. The last dimension of the tensor contains points of the 12 different leads. The leads are ordered in the following order: {DI, DII, DIII, AVR, AVL, AVF, V1, V2, V3, V4, V5, V6}. All signal are represented as 32 bits floating point numbers at the scale 1e-4V: so if the signal is in V it should be multiplied by 1000 before feeding it to the neural network model.\n",
    "\n"
   ]
  },
  {
   "cell_type": "code",
   "execution_count": null,
   "id": "89772114",
   "metadata": {},
   "outputs": [],
   "source": [
    "tdata = h5py.File(\"./data/test_data/ecg_tracings.hdf5\", \"r\")"
   ]
  },
  {
   "cell_type": "code",
   "execution_count": null,
   "id": "d79f5ccf",
   "metadata": {},
   "outputs": [],
   "source": [
    "type(tdata['tracings'])"
   ]
  },
  {
   "cell_type": "code",
   "execution_count": null,
   "id": "eac7ec86",
   "metadata": {},
   "outputs": [],
   "source": [
    "tdata['tracings'].shape"
   ]
  },
  {
   "cell_type": "markdown",
   "id": "f6fbb992",
   "metadata": {},
   "source": [
    "## There are a variety of annotations available in `data/annotations`\n",
    "\n",
    "- Using `gold_standard.csv`\n",
    "\n",
    "- [1st degree AV block(1dAVb)](http://purl.bioontology.org/ontology/SNOMEDCT/270492004)\n",
    "- [right bundle branch block (RBBB)](http://purl.bioontology.org/ontology/SNOMEDCT/59118001)\n",
    "- [left bundle branch block (LBBB)](http://purl.bioontology.org/ontology/SNOMEDCT/63467002)\n",
    "- [sinus bradycardia (SB)](http://purl.bioontology.org/ontology/SNOMEDCT/49710005)\n",
    "- [atrial fibrillation (AF)](http://purl.bioontology.org/ontology/SNOMEDCT/49436004)\n",
    "- [sinus tachycardia (ST)](http://purl.bioontology.org/ontology/SNOMEDCT/11092001)\n",
    "\n",
    "- {DI, DII, DIII, AVR, AVL, AVF, V1, V2, V3, V4, V5, V6}\n",
    "\n",
    "rdheader"
   ]
  },
  {
   "cell_type": "code",
   "execution_count": null,
   "id": "97d8562f",
   "metadata": {},
   "outputs": [],
   "source": [
    "annotations = pd.read_csv(\"data/annotations/gold_standard.csv\")"
   ]
  },
  {
   "cell_type": "code",
   "execution_count": null,
   "id": "28c7d876",
   "metadata": {},
   "outputs": [],
   "source": [
    "annotations"
   ]
  },
  {
   "cell_type": "code",
   "execution_count": null,
   "id": "5d8f0ccc",
   "metadata": {},
   "outputs": [],
   "source": [
    "def report(gld, rslt):\n",
    "    r = \"\"\n",
    "    for x in zip(gld.items(), rslt):\n",
    "        r = r+f\"({x[0][0].ljust(5)}, {x[0][1]})={int(100*x[1]):3d}%\\n\"\n",
    "    return r\n",
    "        "
   ]
  },
  {
   "cell_type": "markdown",
   "id": "39f95ab3",
   "metadata": {},
   "source": [
    "## The model assumes a 3D tensor\n",
    "\n",
    "- So have to be a little more verbose in pulling out a single sequence to preserve that 3D shape"
   ]
  },
  {
   "cell_type": "code",
   "execution_count": null,
   "id": "5be45e4a",
   "metadata": {},
   "outputs": [],
   "source": [
    "seq0 = tdata['tracings'][0:1,:,:]"
   ]
  },
  {
   "cell_type": "code",
   "execution_count": null,
   "id": "a48d4fd4",
   "metadata": {},
   "outputs": [],
   "source": [
    "seq0.shape"
   ]
  },
  {
   "cell_type": "markdown",
   "id": "3afee0f6",
   "metadata": {},
   "source": [
    "## This is the default model from the paper"
   ]
  },
  {
   "cell_type": "code",
   "execution_count": null,
   "id": "129eb512",
   "metadata": {},
   "outputs": [],
   "source": [
    " # Import model\n",
    "model = load_model(\"/Users/brian/Dropbox/model/model.hdf5\", compile=False)\n",
    "model.compile(loss='binary_crossentropy', optimizer=Adam())"
   ]
  },
  {
   "cell_type": "code",
   "execution_count": null,
   "id": "1de6e2f2",
   "metadata": {},
   "outputs": [],
   "source": []
  },
  {
   "cell_type": "code",
   "execution_count": null,
   "id": "d0d1b226",
   "metadata": {},
   "outputs": [],
   "source": [
    "for i in range(0,827):\n",
    "    print(f\"CASE: {i:3d}\")\n",
    "    seqi = seq0 = tdata['tracings'][i:i+1,:,:]\n",
    "    y_score = model.predict(seq0,  verbose=0)\n",
    "    print(report(annotations.loc[i,:], y_score[0]))\n",
    "    print(\"-\"*42)\n",
    "    "
   ]
  },
  {
   "cell_type": "code",
   "execution_count": null,
   "id": "1f30c650",
   "metadata": {},
   "outputs": [],
   "source": [
    "import wfdb\n",
    "import wfdb.processing as process\n",
    "from collections import defaultdict\n",
    "import json"
   ]
  },
  {
   "cell_type": "markdown",
   "id": "8e305751",
   "metadata": {},
   "source": [
    "## Potential Data Sources\n",
    "\n",
    "- [St. Petersburg](https://physionet.org/content/incartdb/1.0.0/)\n",
    "- [PTB-XL](https://physionet.org/content/ptb-xl/1.0.1/)\n",
    "- "
   ]
  },
  {
   "cell_type": "code",
   "execution_count": null,
   "id": "33b34d8f",
   "metadata": {},
   "outputs": [],
   "source": [
    "record2 = wfdb.rdrecord('1', pn_dir='ludb/data')\n"
   ]
  },
  {
   "cell_type": "code",
   "execution_count": null,
   "id": "3ed0db6f",
   "metadata": {},
   "outputs": [],
   "source": [
    "cases = [f.split(\"/\")[1] for f in wfdb.get_record_list(\"ludb\", records='all')]"
   ]
  },
  {
   "cell_type": "code",
   "execution_count": null,
   "id": "f20f830f",
   "metadata": {},
   "outputs": [],
   "source": [
    "h.comments.index(\"<diagnoses>:\")"
   ]
  },
  {
   "cell_type": "code",
   "execution_count": null,
   "id": "a7ce7a85",
   "metadata": {},
   "outputs": [],
   "source": [
    "case_diags = defaultdict(list)\n",
    "for c in cases:\n",
    "    h = wfdb.rdheader(c, pn_dir='ludb/data' )\n",
    "    for d in h.comments[h.comments.index(\"<diagnoses>:\")+1:]:\n",
    "        case_diags[d].append(c)"
   ]
  },
  {
   "cell_type": "code",
   "execution_count": null,
   "id": "9d9f784f",
   "metadata": {},
   "outputs": [],
   "source": [
    "with open(\"ludb_diag.json\", \"w\") as io:\n",
    "    json.dump(case_diags, io)"
   ]
  },
  {
   "cell_type": "code",
   "execution_count": null,
   "id": "9415056e",
   "metadata": {},
   "outputs": [],
   "source": [
    "for k,v in case_diags.items():\n",
    "    print(f\"{k.ljust(15)}: {len(v):3d}\")"
   ]
  },
  {
   "cell_type": "code",
   "execution_count": null,
   "id": "13c3e3b7",
   "metadata": {},
   "outputs": [],
   "source": [
    "h.comments"
   ]
  },
  {
   "cell_type": "code",
   "execution_count": null,
   "id": "c5d8f1cb",
   "metadata": {},
   "outputs": [],
   "source": [
    "signals2, fields2 = wfdb.rdsamp('1', pn_dir='ludb/data' )\n"
   ]
  },
  {
   "cell_type": "code",
   "execution_count": null,
   "id": "405ca680",
   "metadata": {},
   "outputs": [],
   "source": [
    "h.comments[2:]"
   ]
  },
  {
   "cell_type": "code",
   "execution_count": null,
   "id": "025a72af",
   "metadata": {},
   "outputs": [],
   "source": [
    "signals2b, _ = resample_sig2(signals2, 500, 400)"
   ]
  },
  {
   "cell_type": "code",
   "execution_count": null,
   "id": "7509fb49",
   "metadata": {},
   "outputs": [],
   "source": [
    "fields2"
   ]
  },
  {
   "cell_type": "code",
   "execution_count": null,
   "id": "a930c90f",
   "metadata": {},
   "outputs": [],
   "source": [
    "from scipy import signal\n",
    "def resample(x, fs, fs_target):\n",
    "    \"\"\"\n",
    "    Resample a signal to a different frequency.\n",
    "    Parameters\n",
    "    ----------\n",
    "    x : ndarray\n",
    "        Array containing the signal.\n",
    "    fs : int, float\n",
    "        The original sampling frequency.\n",
    "    fs_target : int, float\n",
    "        The target frequency.\n",
    "    Returns\n",
    "    -------\n",
    "    resampled_x : ndarray\n",
    "        Array of the resampled signal values.\n",
    "    resampled_t : ndarray\n",
    "        Array of the resampled signal locations.\n",
    "    \"\"\"\n",
    "    t = np.arange(x.shape[0]).astype('float64')\n",
    "\n",
    "    if fs == fs_target:\n",
    "        return x\n",
    "\n",
    "    new_length = int(x.shape[0]*fs_target/fs)\n",
    "    # Resample the array if NaN values are present\n",
    "    if np.isnan(x).any():\n",
    "        x = pd.Series(x.reshape((-1,))).interpolate().values\n",
    "    resampled_x, resampled_t = signal.resample(x, num=new_length, t=t)\n",
    "    return resampled_x\n",
    "    "
   ]
  },
  {
   "cell_type": "code",
   "execution_count": null,
   "id": "f9a5bb3d",
   "metadata": {},
   "outputs": [],
   "source": [
    "def rescale(x, sc, sc_target):\n",
    "    \"\"\"\n",
    "    Resample a signal to a different frequency.\n",
    "    Parameters\n",
    "    ----------\n",
    "    x : ndarray\n",
    "        Array containing the signal.\n",
    "    fs : int, float\n",
    "        The original sampling frequency.\n",
    "    fs_target : int, float\n",
    "        The target frequency.\n",
    "    Returns\n",
    "    -------\n",
    "    resampled_x : ndarray\n",
    "        Array of the resampled signal values.\n",
    "    resampled_t : ndarray\n",
    "        Array of the resampled signal locations.\n",
    "    \"\"\"\n",
    "\n",
    "    if sc == sc_target:\n",
    "        return x, 1\n",
    "\n",
    "    scale = sc/sc_target\n",
    "    # Resample the array if NaN values are present\n",
    "\n",
    "    return (scale*x).astype(np.float32), scale"
   ]
  },
  {
   "cell_type": "code",
   "execution_count": null,
   "id": "eb73816d",
   "metadata": {},
   "outputs": [],
   "source": [
    "x2 = resample(signals2, 500, 400)"
   ]
  },
  {
   "cell_type": "code",
   "execution_count": null,
   "id": "c05057b1",
   "metadata": {},
   "outputs": [],
   "source": [
    "x2.max()"
   ]
  },
  {
   "cell_type": "code",
   "execution_count": null,
   "id": "02cb4f87",
   "metadata": {},
   "outputs": [],
   "source": [
    "x2b = x2.reshape(1,4000, 12)"
   ]
  },
  {
   "cell_type": "code",
   "execution_count": null,
   "id": "34a987b5",
   "metadata": {},
   "outputs": [],
   "source": [
    "x2b.shape"
   ]
  },
  {
   "cell_type": "code",
   "execution_count": null,
   "id": "3718cef9",
   "metadata": {},
   "outputs": [],
   "source": [
    "y_score = model.predict(x2b,  verbose=1)"
   ]
  },
  {
   "cell_type": "code",
   "execution_count": null,
   "id": "9913b9ba",
   "metadata": {},
   "outputs": [],
   "source": [
    "y_score"
   ]
  },
  {
   "cell_type": "code",
   "execution_count": null,
   "id": "cf253291",
   "metadata": {},
   "outputs": [],
   "source": []
  }
 ],
 "metadata": {
  "kernelspec": {
   "display_name": "Python 3 (ipykernel)",
   "language": "python",
   "name": "python3"
  },
  "language_info": {
   "codemirror_mode": {
    "name": "ipython",
    "version": 3
   },
   "file_extension": ".py",
   "mimetype": "text/x-python",
   "name": "python",
   "nbconvert_exporter": "python",
   "pygments_lexer": "ipython3",
   "version": "3.8.2"
  }
 },
 "nbformat": 4,
 "nbformat_minor": 5
}
