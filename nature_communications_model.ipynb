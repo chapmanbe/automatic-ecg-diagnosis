{
 "cells": [
  {
   "cell_type": "markdown",
   "id": "acd44d8b",
   "metadata": {},
   "source": [
    "# Using a Pre-trained ECG Classifier\n",
    "\n",
    "This notebook implements the pre-trained ECG classifier described in this [Nature Communications](https://www.nature.com/articles/s41467-020-15432-4). The code for this is from my [cloned version](https://github.com/chapmanbe/automatic-ecg-diagnosis) of the original GitHub repository.\n",
    "\n",
    "The pretrained models were obtained from this [Dropbox link](https://www.dropbox.com/s/5ar6j8u9v9a0rmh/model.zip?dl=0). Downloading from zenodo was too slow.\n",
    "\n"
   ]
  },
  {
   "cell_type": "code",
   "execution_count": null,
   "id": "5a39c373",
   "metadata": {},
   "outputs": [],
   "source": [
    "import h5py\n",
    "import math\n",
    "import pandas as pd\n",
    "from tensorflow.keras.utils import Sequence\n",
    "import numpy as np\n",
    "from tensorflow.keras.models import load_model\n",
    "from tensorflow.keras.optimizers import Adam\n",
    "from datasets import ECGSequence"
   ]
  },
  {
   "cell_type": "markdown",
   "id": "1ba9a2af",
   "metadata": {},
   "source": [
    "## Data are stored in an HDF5 file\n",
    "\n",
    "- There is a single record named `tracings`\n",
    "- Model predicts 6 diseases, not mutually exclusive\n",
    "\n",
    "### Description of tracings data from the GitHub repository\n",
    "\n",
    ">shape = (N, 4096, 12). The input tensor should contain the 4096 points of the ECG tracings sampled at 400Hz (i.e., a signal of approximately 10 seconds). Both in the training and in the test set, when the signal was not long enough, we filled the signal with zeros, so 4096 points were attained. The last dimension of the tensor contains points of the 12 different leads. The leads are ordered in the following order: {DI, DII, DIII, AVR, AVL, AVF, V1, V2, V3, V4, V5, V6}. All signal are represented as 32 bits floating point numbers at the scale 1e-4V: so if the signal is in V it should be multiplied by 1000 before feeding it to the neural network model.\n",
    "\n"
   ]
  },
  {
   "cell_type": "code",
   "execution_count": null,
   "id": "ddd7a3be",
   "metadata": {},
   "outputs": [],
   "source": [
    "tdata = h5py.File(\"./data/test_data/ecg_tracings.hdf5\", \"r\")"
   ]
  },
  {
   "cell_type": "code",
   "execution_count": null,
   "id": "ba39a9e3",
   "metadata": {},
   "outputs": [],
   "source": [
    "type(tdata['tracings'])"
   ]
  },
  {
   "cell_type": "code",
   "execution_count": null,
   "id": "8346ce90",
   "metadata": {},
   "outputs": [],
   "source": [
    "tdata['tracings'].shape"
   ]
  },
  {
   "cell_type": "markdown",
   "id": "a43f33cc",
   "metadata": {},
   "source": [
    "## There are a variety of annotations available in `data/annotations`\n",
    "\n",
    "- Using `gold_standard.csv`"
   ]
  },
  {
   "cell_type": "code",
   "execution_count": null,
   "id": "e8b7543f",
   "metadata": {},
   "outputs": [],
   "source": [
    "annotations = pd.read_csv(\"data/annotations/gold_standard.csv\")"
   ]
  },
  {
   "cell_type": "code",
   "execution_count": null,
   "id": "2487292a",
   "metadata": {},
   "outputs": [],
   "source": [
    "annotations"
   ]
  },
  {
   "cell_type": "code",
   "execution_count": null,
   "id": "8b9a3b8e",
   "metadata": {},
   "outputs": [],
   "source": [
    "def report(gld, rslt):\n",
    "    r = \"\"\n",
    "    for x in zip(gld.items(), rslt):\n",
    "        r = r+f\"({x[0][0].ljust(5)}, {x[0][1]})={int(100*x[1]):3d}%\\n\"\n",
    "    return r\n",
    "        "
   ]
  },
  {
   "cell_type": "markdown",
   "id": "3ecd43f1",
   "metadata": {},
   "source": [
    "## The model assumes a 3D tensor\n",
    "\n",
    "- So have to be a little more verbose in pulling out a single sequence to preserve that 3D shape"
   ]
  },
  {
   "cell_type": "code",
   "execution_count": null,
   "id": "ed3d23bf",
   "metadata": {},
   "outputs": [],
   "source": [
    "seq0 = tdata['tracings'][0:1,:,:]"
   ]
  },
  {
   "cell_type": "code",
   "execution_count": null,
   "id": "4b0b0557",
   "metadata": {},
   "outputs": [],
   "source": [
    "seq0.shape"
   ]
  },
  {
   "cell_type": "markdown",
   "id": "28386de5",
   "metadata": {},
   "source": [
    "## This is the default model from the paper"
   ]
  },
  {
   "cell_type": "code",
   "execution_count": null,
   "id": "fcecfdcc",
   "metadata": {},
   "outputs": [],
   "source": [
    " # Import model\n",
    "model = load_model(\"/Users/brian/Dropbox/model/model.hdf5\", compile=False)\n",
    "model.compile(loss='binary_crossentropy', optimizer=Adam())"
   ]
  },
  {
   "cell_type": "code",
   "execution_count": null,
   "id": "dc8b818b",
   "metadata": {},
   "outputs": [],
   "source": []
  },
  {
   "cell_type": "code",
   "execution_count": null,
   "id": "4bf5a5ee",
   "metadata": {},
   "outputs": [],
   "source": [
    "for i in range(0,827):\n",
    "    print(f\"CASE: {i:3d}\")\n",
    "    seqi = seq0 = tdata['tracings'][i:i+1,:,:]\n",
    "    y_score = model.predict(seq0,  verbose=0)\n",
    "    print(report(annotations.loc[i,:], y_score[0]))\n",
    "    print(\"-\"*42)\n",
    "    "
   ]
  },
  {
   "cell_type": "code",
   "execution_count": null,
   "id": "810a1237",
   "metadata": {},
   "outputs": [],
   "source": []
  }
 ],
 "metadata": {
  "kernelspec": {
   "display_name": "Python 3 (ipykernel)",
   "language": "python",
   "name": "python3"
  },
  "language_info": {
   "codemirror_mode": {
    "name": "ipython",
    "version": 3
   },
   "file_extension": ".py",
   "mimetype": "text/x-python",
   "name": "python",
   "nbconvert_exporter": "python",
   "pygments_lexer": "ipython3",
   "version": "3.8.2"
  }
 },
 "nbformat": 4,
 "nbformat_minor": 5
}
